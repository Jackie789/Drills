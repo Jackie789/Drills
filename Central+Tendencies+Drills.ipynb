{
 "cells": [
  {
   "cell_type": "markdown",
   "metadata": {},
   "source": [
    "# Drill - Describing Data"
   ]
  },
  {
   "cell_type": "markdown",
   "metadata": {},
   "source": [
    "1. Greg was 14, Marcia was 12, Peter was 11, Jan was 10, Bobby was 8, and Cindy was 6 when they started playing the Brady kids on The Brady Bunch. Cousin Oliver was 8 years old when he joined the show. What are the mean, median, and mode of the kids' ages when they first appeared on the show? What are the variance, standard deviation, and standard error?"
   ]
  },
  {
   "cell_type": "code",
   "execution_count": 16,
   "metadata": {
    "collapsed": false,
    "scrolled": true
   },
   "outputs": [
    {
     "name": "stdout",
     "output_type": "stream",
     "text": [
      "Mean: 9.85714285714\n",
      "Median: 10.0\n",
      "Mode: 8\n",
      "\n",
      "\n",
      "Variance: 7.47619047619\n",
      "Standard deviation: 2.73426232761\n",
      "Standard error: 1.03345401972\n"
     ]
    }
   ],
   "source": [
    "import pandas as pd\n",
    "import numpy as np\n",
    "import statistics\n",
    "\n",
    "df = pd.DataFrame()\n",
    "df[\"ages\"] = (14, 12, 11, 10 ,8, 6, 8)\n",
    "print(\"Mean: \" + str(np.mean(df[\"ages\"])))\n",
    "print(\"Median: \" + str(np.median(df[\"ages\"])))\n",
    "print(\"Mode: \" + str(statistics.mode(df[\"ages\"])))\n",
    "print(\"\\n\")\n",
    "print(\"Variance: \" + str(np.var(df[\"ages\"], ddof=1)))\n",
    "print(\"Standard deviation: \" + str(np.std(df[\"ages\"], ddof=1)))\n",
    "print(\"Standard error: \" + str((np.std(df[\"ages\"], ddof=1) /np.sqrt(len(df[\"ages\"]))))) "
   ]
  },
  {
   "cell_type": "markdown",
   "metadata": {},
   "source": [
    "   2. Using these estimates, if you had to choose only one estimate of central tendency and one estimate of variance to describe the data, which would you pick and why?\n",
    "\n",
    "    ** I would use the median because it is less susceptible to outliers, and the sample standard deviation because it is more intuitive and common than variance. **"
   ]
  },
  {
   "cell_type": "markdown",
   "metadata": {},
   "source": [
    "3. Next, Cindy has a birthday. Update your estimates- what changed, and what didn't?\n",
    "\n",
    "    ** The mean increased, the median and mode did not change. **\n",
    "    ** The varience, st.dev. and st. error decreased. **"
   ]
  },
  {
   "cell_type": "code",
   "execution_count": 21,
   "metadata": {
    "collapsed": false
   },
   "outputs": [
    {
     "name": "stdout",
     "output_type": "stream",
     "text": [
      "Mean: 10.0\n",
      "Median: 10.0\n",
      "Mode: 8\n",
      "\n",
      "\n",
      "Variance: 6.33333333333\n",
      "Standard deviation: 2.51661147842\n",
      "Standard error: 0.951189731211\n"
     ]
    }
   ],
   "source": [
    "df[\"ages\"][5] = 7\n",
    "print(\"Mean: \" + str(np.mean(df[\"ages\"])))\n",
    "print(\"Median: \" + str(np.median(df[\"ages\"])))\n",
    "print(\"Mode: \" + str(statistics.mode(df[\"ages\"])))\n",
    "print(\"\\n\")\n",
    "print(\"Variance: \" + str(np.var(df[\"ages\"], ddof=1)))\n",
    "print(\"Standard deviation: \" + str(np.std(df[\"ages\"], ddof=1)))\n",
    "print(\"Standard error: \" + str((np.std(df[\"ages\"], ddof=1) /np.sqrt(len(df[\"ages\"]))))) "
   ]
  },
  {
   "cell_type": "markdown",
   "metadata": {},
   "source": [
    "4. Nobody likes Cousin Oliver. Maybe the network should have used an even younger actor Replace Cousin Oliver with 1-year-old Jessica, then recalculate again. Does this change your choice of central tendency or variance estimation methods?\n",
    "\n",
    "    ** Some of the values have changed, but I would not change my choice of central tendency. Using the median gives a solid look at the central tendency of the ages of the children, and is more robust to outliers. **\n"
   ]
  },
  {
   "cell_type": "code",
   "execution_count": 31,
   "metadata": {
    "collapsed": false
   },
   "outputs": [
    {
     "name": "stdout",
     "output_type": "stream",
     "text": [
      "Mean: 9.0\n",
      "Median: 10.0\n",
      "\n",
      "\n",
      "Variance: 18.0\n",
      "Standard deviation: 4.24264068712\n",
      "Standard error: 1.60356745147\n"
     ]
    }
   ],
   "source": [
    "df[\"ages\"][6] = 1\n",
    "print(\"Mean: \" + str(np.mean(df[\"ages\"])))\n",
    "print(\"Median: \" + str(np.median(df[\"ages\"])))\n",
    "#while True:\n",
    "#    try:\n",
    "#        print(\"Mode: \" + str(statistics.mode(df[\"ages\"])))\n",
    "#    except statistics.StatisticsError():\n",
    "#        print(\"There is no mode\")\n",
    "print(\"\\n\")\n",
    "print(\"Variance: \" + str(np.var(df[\"ages\"], ddof=1)))\n",
    "print(\"Standard deviation: \" + str(np.std(df[\"ages\"], ddof=1)))\n",
    "print(\"Standard error: \" + str((np.std(df[\"ages\"], ddof=1) /np.sqrt(len(df[\"ages\"]))))) \n"
   ]
  },
  {
   "cell_type": "markdown",
   "metadata": {},
   "source": [
    "On the 50th anniversary of The Brady Bunch, four different magazines asked their readers whether they were fans of the show. The answers were: \n",
    "TV Guide 20% fans \n",
    "Entertainment Weekly 23% fans \n",
    "Pop Culture Today 17% fans \n",
    "SciPhi Phanatic 5% fans\n",
    "\n",
    "Based on these numbers, what percentage of adult Americans would you estimate were Brady Bunch fans on the 50th anniversary of the show?\n",
    "\n",
    "** More information is needed. These four magazines surely have different rates of readership and reflect different subgroups within the adult American population. We also don't have information on how many readers responded to each of the polls. **\n"
   ]
  },
  {
   "cell_type": "markdown",
   "metadata": {},
   "source": [
    "# Drill - Exercises in Probability"
   ]
  },
  {
   "cell_type": "markdown",
   "metadata": {},
   "source": [
    "\n",
    "Calculate the probability of flipping a balanced coin four times and getting each pattern: HTTH, HHHH and TTHH.\n",
    "    \n",
    "\n"
   ]
  },
  {
   "cell_type": "code",
   "execution_count": 42,
   "metadata": {
    "collapsed": false
   },
   "outputs": [
    {
     "name": "stdout",
     "output_type": "stream",
     "text": [
      "The probability is 0.0625 in each case\n"
     ]
    }
   ],
   "source": [
    "prob = 0.5**4\n",
    "prob\n",
    "print(\"The probability is {} in each case\".format(prob))"
   ]
  },
  {
   "cell_type": "markdown",
   "metadata": {},
   "source": [
    "If a list of people has 24 women and 21 men, then the probability of choosing a man from the list is 21/45. What is the probability of not choosing a man?"
   ]
  },
  {
   "cell_type": "code",
   "execution_count": 44,
   "metadata": {
    "collapsed": false
   },
   "outputs": [
    {
     "data": {
      "text/plain": [
       "0.5333333333333333"
      ]
     },
     "execution_count": 44,
     "metadata": {},
     "output_type": "execute_result"
    }
   ],
   "source": [
    "prob = 24/45\n",
    "prob"
   ]
  },
  {
   "cell_type": "markdown",
   "metadata": {},
   "source": [
    "The probability that Bernice will travel by plane sometime in the next year is 10%. The probability of a plane crash at any time is .005%. What is the probability that Bernice will be in a plane crash sometime in the next year?"
   ]
  },
  {
   "cell_type": "code",
   "execution_count": 45,
   "metadata": {
    "collapsed": false
   },
   "outputs": [
    {
     "data": {
      "text/plain": [
       "5e-06"
      ]
     },
     "execution_count": 45,
     "metadata": {},
     "output_type": "execute_result"
    }
   ],
   "source": [
    "prob = .10 * 0.00005\n",
    "prob"
   ]
  },
  {
   "cell_type": "markdown",
   "metadata": {},
   "source": [
    "A data scientist wants to study the behavior of users on the company website. Each time a user clicks on a link on the website, there is a 5% chance that the user will be asked to complete a short survey about their behavior on the website. The data scientist uses the survey data to conclude that, on average, users spend 15 minutes surfing the company website before moving on to other things. What is wrong with this conclusion?"
   ]
  },
  {
   "cell_type": "markdown",
   "metadata": {},
   "source": [
    "Only users who stay long enough to click additional links on the website are going to see the survey. Also, the users may stay much longer than the point at which they filled out the survey. "
   ]
  }
 ],
 "metadata": {
  "kernelspec": {
   "display_name": "Python 3",
   "language": "python",
   "name": "python3"
  },
  "language_info": {
   "codemirror_mode": {
    "name": "ipython",
    "version": 3
   },
   "file_extension": ".py",
   "mimetype": "text/x-python",
   "name": "python",
   "nbconvert_exporter": "python",
   "pygments_lexer": "ipython3",
   "version": "3.5.2"
  }
 },
 "nbformat": 4,
 "nbformat_minor": 2
}
