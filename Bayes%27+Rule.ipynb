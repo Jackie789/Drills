{
 "cells": [
  {
   "cell_type": "markdown",
   "metadata": {},
   "source": [
    "# Drill - Exercises in Bayes' Rule"
   ]
  },
  {
   "cell_type": "markdown",
   "metadata": {},
   "source": [
    "A diagnostic test has a 98% probability of giving a positive result when applied to a person suffering from Thripshaw's Disease, and 10% probability of giving a (false) positive when applied to a non-sufferer. It is estimated that 0.5 % of the population are sufferers. Suppose that the test is now administered to a person whose disease status is unknown. Calculate the probability that the test will:\n",
    "\n",
    "    Be positive\n",
    "    Correctly diagnose a sufferer of Thripshaw's\n",
    "    Correctly identify a non-sufferer of Thripshaw's\n",
    "    Misclassify the person\n",
    "    \n",
    "Bayes' Rule : \n",
    "\n",
    "P(A|B) = P(A|B) * P(A) / P(B)\n",
    "\n",
    "Let B = \"the person does not have Thripshaw's\"\n",
    "Let A = \"a positive result\"\n",
    "\n",
    "* Be positive  --> 10.44% chance\n",
    "* Correctly diagnose a sufferer of Thripshaw's --> 98% chance\n",
    "* Correctly identify a non-sufferer of Thripshaw's  --> 90% chance\n",
    "* Misclassify the pereson --> 9.96% \n"
   ]
  },
  {
   "cell_type": "code",
   "execution_count": 40,
   "metadata": {
    "collapsed": false,
    "scrolled": true
   },
   "outputs": [
    {
     "data": {
      "text/html": [
       "<div>\n",
       "<table border=\"1\" class=\"dataframe\">\n",
       "  <thead>\n",
       "    <tr style=\"text-align: right;\">\n",
       "      <th></th>\n",
       "      <th></th>\n",
       "      <th>Thripshaw's Disease(0.5%)</th>\n",
       "      <th>Healthy (99.5%)</th>\n",
       "    </tr>\n",
       "  </thead>\n",
       "  <tbody>\n",
       "    <tr>\n",
       "      <th>0</th>\n",
       "      <td>Positive</td>\n",
       "      <td>0.98</td>\n",
       "      <td>0.1</td>\n",
       "    </tr>\n",
       "    <tr>\n",
       "      <th>1</th>\n",
       "      <td>Negative</td>\n",
       "      <td>0.02</td>\n",
       "      <td>0.9</td>\n",
       "    </tr>\n",
       "  </tbody>\n",
       "</table>\n",
       "</div>"
      ],
      "text/plain": [
       "             Thripshaw's Disease(0.5%)  Healthy (99.5%)\n",
       "0  Positive                       0.98              0.1\n",
       "1  Negative                       0.02              0.9"
      ]
     },
     "execution_count": 40,
     "metadata": {},
     "output_type": "execute_result"
    }
   ],
   "source": [
    "import pandas as pd\n",
    "import numpy as np\n",
    "\n",
    "table = pd.DataFrame()\n",
    "table[\"\"] = (\"Positive\", \"Negative\")\n",
    "table[\"Thripshaw's Disease(0.5%)\"] = (0.98, .02)\n",
    "table[\"Healthy (99.5%)\"] = (0.10, 0.90)\n",
    "table\n"
   ]
  },
  {
   "cell_type": "code",
   "execution_count": 48,
   "metadata": {
    "collapsed": false,
    "scrolled": true
   },
   "outputs": [
    {
     "name": "stdout",
     "output_type": "stream",
     "text": [
      "The patient will be misclassified 9.96% of the time\n"
     ]
    }
   ],
   "source": [
    "true_pos = 0.005*0.98\n",
    "false_neg = 0.02*0.005\n",
    "false_pos = 0.995 * 0.1\n",
    "true_neg = 0.995*0.9\n",
    "misclassify = false_neg + false_pos\n",
    "print(\"The patient will be misclassified {}% of the time\".format(misclassify*100))\n",
    "                                                                "
   ]
  },
  {
   "cell_type": "code",
   "execution_count": null,
   "metadata": {
    "collapsed": true
   },
   "outputs": [],
   "source": []
  }
 ],
 "metadata": {
  "kernelspec": {
   "display_name": "Python 3",
   "language": "python",
   "name": "python3"
  },
  "language_info": {
   "codemirror_mode": {
    "name": "ipython",
    "version": 3
   },
   "file_extension": ".py",
   "mimetype": "text/x-python",
   "name": "python",
   "nbconvert_exporter": "python",
   "pygments_lexer": "ipython3",
   "version": "3.5.2"
  }
 },
 "nbformat": 4,
 "nbformat_minor": 2
}
