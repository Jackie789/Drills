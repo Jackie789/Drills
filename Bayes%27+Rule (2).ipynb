{
 "cells": [
  {
   "cell_type": "markdown",
   "metadata": {
    "deletable": true,
    "editable": true
   },
   "source": [
    "# Drill - Exercises in Bayes' Rule"
   ]
  },
  {
   "cell_type": "markdown",
   "metadata": {
    "deletable": true,
    "editable": true
   },
   "source": [
    "A diagnostic test has a 98% probability of giving a positive result when applied to a person suffering from Thripshaw's Disease, and 10% probability of giving a (false) positive when applied to a non-sufferer. It is estimated that 0.5 % of the population are sufferers. Suppose that the test is now administered to a person whose disease status is unknown. Calculate the probability that the test will:\n",
    "\n",
    "    Be positive\n",
    "    Correctly diagnose a sufferer of Thripshaw's\n",
    "    Correctly identify a non-sufferer of Thripshaw's\n",
    "    Misclassify the person\n",
    "    \n",
    "Bayes' Rule : \n",
    "\n",
    "P(A|B) = P(B|A) * P(A) / P(B)\n",
    "\n",
    "* Be positive  --> \n",
    "    P = P(Correct positive) + P(False Positive)\n",
    "    p = 0.98*0.005 + 0.10*0.995 = 10.44%\n",
    "    **P = 10.44%**\n",
    "\n",
    "* Correctly diagnose a sufferer of Thripshaw's --> **98% chance**\n",
    "* Correctly identify a non-sufferer of Thripshaw's  --> **90% chance**\n",
    "* Misclassify the person -->\n",
    "\n",
    "The chance of missclassification when the person does not have Thripshaw's: \n",
    "\n",
    "H = Healthy Individual\n",
    "T = Positive result\n",
    "\n",
    "    P(H|T) = P(T|H) * P(H) / P(T)\n",
    "    P(H|T) = .10 * .995 / (.10*.995 + .98*.005) = 95.3%\n",
    "    \n",
    "The chance of misclassification when the person does have Thripshaw's:\n",
    "\n",
    "D = Disease (Thripshaw's)\n",
    "N = Negative result\n",
    "\n",
    "    P(D|N) = P(N|D) * P(D) / P(N)\n",
    "    P(D|N) = 0.02 * 0.005 / (.02*.005) + (.995*.90) = 0.01%\n",
    "    \n",
    "Total chance of misclassification: \n",
    "\n",
    "    P = 0.953*(Chances of a Positive Test) + 0.01 * (Chances of a negative test)\n",
    "    P = 0.953 * .1044 + 0.0001*.8956\n",
    "    P = 0.0996\n",
    "   **P = 9.96%**\n",
    "    \n",
    "\n"
   ]
  }
 ],
 "metadata": {
  "kernelspec": {
   "display_name": "Python 3",
   "language": "python",
   "name": "python3"
  },
  "language_info": {
   "codemirror_mode": {
    "name": "ipython",
    "version": 3
   },
   "file_extension": ".py",
   "mimetype": "text/x-python",
   "name": "python",
   "nbconvert_exporter": "python",
   "pygments_lexer": "ipython3",
   "version": "3.5.2"
  }
 },
 "nbformat": 4,
 "nbformat_minor": 2
}
