{
 "cells": [
  {
   "cell_type": "markdown",
   "metadata": {},
   "source": [
    "## Exploring the Central Limit Theorem\n",
    "\n",
    "\n",
    "Now that you have some code to create your own populations, sample them, and compare the samples to the populations, it's time to experiment. Using your own Jupyter notebook, or a copy of the notebook from the previous assignment, reproduce the pop1 and pop2 populations and samples. Specifically, create two binomially distributed populations with n equal to 10 and size equal to 10000. The p-value of pop1 should be 0.2 and the p-value of pop2 should be 0.5. Using a sample size of 100, calculate the means and standard deviations of your samples.\n",
    "\n",
    "For each of the following tasks, first write what you expect will happen, then code the changes and observe what does happen. Discuss the results with your mentor.\n",
    "\n",
    "1. Increase the size of your samples from 100 to 1000, then calculate the means and standard deviations for your new samples and create histograms for each. Repeat this again, decreasing the size of your samples to 20. What values change, and what remain the same?\n",
    "2. Change the population value p for pop1 to 0.3, then take new samples and compute the t-statistic and p-value. Then change the population value p for group 1 to 0.4, and do it again. What changes, and why?\n",
    "3. Change the distribution of your populations from binomial to a distribution of your choice. Do the sample mean values still accurately represent the population values?\n"
   ]
  },
  {
   "cell_type": "code",
   "execution_count": 24,
   "metadata": {
    "collapsed": false
   },
   "outputs": [
    {
     "name": "stdout",
     "output_type": "stream",
     "text": [
      "Pop1: The mean is 1.88 and the standard deviation is 1.2512393855693642 \n",
      "Pop2: The mean is 4.91 and the standard deviation is 1.7325992035089939\n"
     ]
    },
    {
     "data": {
      "image/png": "[encoded data removed]",
      "text/plain": [
       "<matplotlib.figure.Figure at 0x10876b438>"
      ]
     },
     "metadata": {},
     "output_type": "display_data"
    }
   ],
   "source": [
    "# reproduce the pop1 and pop2 populations and samples. Specifically, create two binomially distributed populations \n",
    "# with n equal to 10 and size equal to 10000. The p-value of pop1 should be 0.2 and the p-value of pop2 should be 0.5.\n",
    "# Using a sample size of 100, calculate the means and standard deviations of your samples.\n",
    "\n",
    "import numpy as np\n",
    "import matplotlib.pyplot as plt\n",
    "\n",
    "pop1 = np.random.binomial(10, 0.2, 10000)\n",
    "pop2 = np.random.binomial(10, 0.5, 10000)\n",
    "\n",
    "sample1 = np.random.choice(pop1, 100, replace=True)\n",
    "sample2 = np.random.choice(pop2, 100, replace=True)\n",
    "\n",
    "mean1 = np.mean(sample1)\n",
    "mean2 = np.mean(sample2)\n",
    "\n",
    "std1 = np.std(sample1)\n",
    "std2 = np.std(sample2)\n",
    "\n",
    "print(\"Pop1: The mean is {} and the standard deviation is {} \\nPop2: The mean is {} and the standard deviation is {}\".format(mean1, std1, mean2, std2))\n",
    "\n",
    "\n",
    "plt.hist(sample1, alpha=0.5, label='pop1') \n",
    "plt.hist(sample2, alpha=0.5, label='pop2') \n",
    "plt.legend(loc='upper right') \n",
    "\n",
    "\n",
    "\n",
    "plt.title(\"Sample size: 100\")\n",
    "# Show the means\n",
    "plt.axvline(mean1, color='g', linestyle='solid', linewidth=4)\n",
    "plt.axvline(mean2, color='b', linestyle='solid', linewidth=4)\n",
    "\n",
    "\n",
    "# Show one standard deviation from the mean\n",
    "plt.axvline(mean1 + std1, color='g', linestyle='dashed', linewidth=2)\n",
    "plt.axvline(mean1 - std1, color='g', linestyle='dashed', linewidth=2)\n",
    "\n",
    "# Show one standard deviation from the mean\n",
    "plt.axvline(mean2 + std2, color='b', linestyle='dashed', linewidth=2)\n",
    "plt.axvline(mean2 - std2, color='b', linestyle='dashed', linewidth=2)\n",
    "\n",
    "\n",
    "plt.show()\n"
   ]
  },
  {
   "cell_type": "markdown",
   "metadata": {},
   "source": [
    "Increasing the sample size from 100 to 1,000 will decrease the variability in the mean of pop1, it will tend to be closer to 2.00, and the mean of pop2 will tend to be closer to 5. The standard deviations of both groups will become smaller. \n",
    "\n",
    "Decreasing the sample size from 100 to 20 will result in a more variable mean value, and larger standard deviations. "
   ]
  },
  {
   "cell_type": "code",
   "execution_count": 23,
   "metadata": {
    "collapsed": false
   },
   "outputs": [
    {
     "name": "stdout",
     "output_type": "stream",
     "text": [
      "Pop1: The mean is 1.929 and the standard deviation is 1.219819248905345 \n",
      "Pop2: The mean is 5.057 and the standard deviation is 1.5949141042701955\n"
     ]
    },
    {
     "data": {
      "image/png": "[encoded data removed]",
      "text/plain": [
       "<matplotlib.figure.Figure at 0x108f14d30>"
      ]
     },
     "metadata": {},
     "output_type": "display_data"
    }
   ],
   "source": [
    "sample1000_1 = np.random.choice(pop1, 1000, replace=True)\n",
    "sample1000_2 = np.random.choice(pop2, 1000, replace=True)\n",
    "\n",
    "mean1000_1 = np.mean(sample1000_1)\n",
    "mean1000_2 = np.mean(sample1000_2)\n",
    "\n",
    "std1000_1 = np.std(sample1000_1)\n",
    "std1000_2 = np.std(sample1000_2)\n",
    "\n",
    "print(\"Pop1: The mean is {} and the standard deviation is {} \\nPop2: The mean is {} and the standard deviation is {}\".format(mean1, std1, mean2, std2))\n",
    "\n",
    "\n",
    "plt.hist(sample1000_1, alpha=0.5, label='pop1') \n",
    "plt.hist(sample1000_2, alpha=0.5, label='pop2') \n",
    "plt.legend(loc='upper right') \n",
    "\n",
    "\n",
    "\n",
    "plt.title(\"Sample Size: 1,000\")\n",
    "# Show the means\n",
    "plt.axvline(mean1000_1, color='g', linestyle='solid', linewidth=4)\n",
    "plt.axvline(mean1000_2, color='b', linestyle='solid', linewidth=4)\n",
    "\n",
    "\n",
    "# Show one standard deviation from the mean\n",
    "plt.axvline(mean1000_1 + std1000_1, color='g', linestyle='dashed', linewidth=2)\n",
    "plt.axvline(mean1000_1 - std1000_1, color='g', linestyle='dashed', linewidth=2)\n",
    "\n",
    "# Show one standard deviation from the mean\n",
    "plt.axvline(mean1000_2 + std1000_2, color='b', linestyle='dashed', linewidth=2)\n",
    "plt.axvline(mean1000_2 - std1000_2, color='b', linestyle='dashed', linewidth=2)\n",
    "\n",
    "\n",
    "plt.show()\n"
   ]
  },
  {
   "cell_type": "markdown",
   "metadata": {},
   "source": [
    "The standard deviation has decreased slightly, and the variability in the mean between runs has decreased. "
   ]
  },
  {
   "cell_type": "code",
   "execution_count": 27,
   "metadata": {
    "collapsed": false
   },
   "outputs": [
    {
     "name": "stdout",
     "output_type": "stream",
     "text": [
      "Pop1: The mean is 1.88 and the standard deviation is 1.2512393855693642 \n",
      "Pop2: The mean is 4.91 and the standard deviation is 1.7325992035089939\n"
     ]
    },
    {
     "data": {
      "image/png": "[encoded data removed]",
      "text/plain": [
       "<matplotlib.figure.Figure at 0x10876d4a8>"
      ]
     },
     "metadata": {},
     "output_type": "display_data"
    }
   ],
   "source": [
    "sample20_1 = np.random.choice(pop1, 20, replace=True)\n",
    "sample20_2 = np.random.choice(pop2, 20, replace=True)\n",
    "\n",
    "mean20_1 = np.mean(sample20_1)\n",
    "mean20_2 = np.mean(sample20_2)\n",
    "\n",
    "std20_1 = np.std(sample20_1)\n",
    "std20_2 = np.std(sample20_2)\n",
    "\n",
    "print(\"Pop1: The mean is {} and the standard deviation is {} \\nPop2: The mean is {} and the standard deviation is {}\".format(mean1, std1, mean2, std2))\n",
    "\n",
    "\n",
    "plt.hist(sample20_1, alpha=0.5, label='pop1') \n",
    "plt.hist(sample20_2, alpha=0.5, label='pop2') \n",
    "plt.legend(loc='upper right') \n",
    "\n",
    "\n",
    "plt.title(\"Sample Size: 20\")\n",
    "# Show the means\n",
    "plt.axvline(mean20_1, color='g', linestyle='solid', linewidth=4)\n",
    "plt.axvline(mean20_2, color='b', linestyle='solid', linewidth=4)\n",
    "\n",
    "\n",
    "# Show one standard deviation from the mean\n",
    "plt.axvline(mean20_1 + std20_1, color='g', linestyle='dashed', linewidth=2)\n",
    "plt.axvline(mean20_1 - std20_1, color='g', linestyle='dashed', linewidth=2)\n",
    "\n",
    "# Show one standard deviation from the mean\n",
    "plt.axvline(mean20_2 + std20_2, color='b', linestyle='dashed', linewidth=2)\n",
    "plt.axvline(mean20_2 - std20_2, color='b', linestyle='dashed', linewidth=2)\n",
    "\n",
    "\n",
    "plt.show()\n"
   ]
  },
  {
   "cell_type": "markdown",
   "metadata": {},
   "source": [
    "In this first run, the standard deviation of both populations has increased and the means are further from the true mean of the population. "
   ]
  },
  {
   "cell_type": "markdown",
   "metadata": {},
   "source": [
    "    Change the population value p for pop1 to 0.3, then take new samples and compute the t-statistic and p-value. Then change the population value p for group 1 to 0.4, and do it again. What changes, and why?\n",
    "\n",
    "I expect that the t-statistic will decrease and the p-value will increase as the population value p changes from 0.2 to 0.3, and then from 0.3 to 0.4. "
   ]
  },
  {
   "cell_type": "code",
   "execution_count": 29,
   "metadata": {
    "collapsed": false
   },
   "outputs": [
    {
     "name": "stdout",
     "output_type": "stream",
     "text": [
      "14.1776206081\n",
      "Ttest_indResult(statistic=14.106554393163863, pvalue=6.3121697312579733e-31)\n"
     ]
    }
   ],
   "source": [
    "size = np.array([len(sample1), len(sample2)])\n",
    "sd = np.array([sample1.std(), sample2.std()])\n",
    "\n",
    "\n",
    "diff=sample2.mean( ) -sample1.mean()\n",
    "\n",
    "# The squared standard deviations are divided by the sample size and summed, then we take\n",
    "# the square root of the sum. \n",
    "diff_se = sum(sd ** 2 / size) ** 0.5  \n",
    "\n",
    "#The difference between the means divided by the standard error: T-value.  \n",
    "print(diff/diff_se)\n",
    "\n",
    "from scipy.stats import ttest_ind\n",
    "print(ttest_ind(sample2, sample1, equal_var=False))"
   ]
  },
  {
   "cell_type": "code",
   "execution_count": 35,
   "metadata": {
    "collapsed": false
   },
   "outputs": [
    {
     "name": "stdout",
     "output_type": "stream",
     "text": [
      "9.30062568598\n",
      "Ttest_indResult(statistic=9.2540057147811812, pvalue=3.7135676290557108e-17)\n"
     ]
    }
   ],
   "source": [
    "pop1 = np.random.binomial(10, 0.3, 10000)\n",
    "pop2 = np.random.binomial(10, 0.5, 10000)\n",
    "\n",
    "sample1 = np.random.choice(pop1, 100, replace=True)\n",
    "sample2 = np.random.choice(pop2, 100, replace=True)\n",
    "\n",
    "size = np.array([len(sample1), len(sample2)])\n",
    "sd = np.array([sample1.std(), sample2.std()])\n",
    "\n",
    "\n",
    "diff=sample2.mean( ) -sample1.mean()\n",
    "\n",
    "# The squared standard deviations are divided by the sample size and summed, then we take\n",
    "# the square root of the sum. \n",
    "diff_se = sum(sd ** 2 / size) ** 0.5  \n",
    "\n",
    "#The difference between the means divided by the standard error: T-value.  \n",
    "print(diff/diff_se)\n",
    "\n",
    "from scipy.stats import ttest_ind\n",
    "print(ttest_ind(sample2, sample1, equal_var=False))"
   ]
  },
  {
   "cell_type": "code",
   "execution_count": 34,
   "metadata": {
    "collapsed": false
   },
   "outputs": [
    {
     "name": "stdout",
     "output_type": "stream",
     "text": [
      "4.47316074478\n",
      "Ttest_indResult(statistic=4.4507387452130631, pvalue=1.4532391378299397e-05)\n"
     ]
    }
   ],
   "source": [
    "pop1 = np.random.binomial(10, 0.4, 10000)\n",
    "pop2 = np.random.binomial(10, 0.5, 10000)\n",
    "\n",
    "sample1 = np.random.choice(pop1, 100, replace=True)\n",
    "sample2 = np.random.choice(pop2, 100, replace=True)\n",
    "\n",
    "size = np.array([len(sample1), len(sample2)])\n",
    "sd = np.array([sample1.std(), sample2.std()])\n",
    "\n",
    "\n",
    "diff=sample2.mean( ) -sample1.mean()\n",
    "\n",
    "# The squared standard deviations are divided by the sample size and summed, then we take\n",
    "# the square root of the sum. \n",
    "diff_se = sum(sd ** 2 / size) ** 0.5  \n",
    "\n",
    "#The difference between the means divided by the standard error: T-value.  \n",
    "print(diff/diff_se)\n",
    "\n",
    "from scipy.stats import ttest_ind\n",
    "print(ttest_ind(sample2, sample1, equal_var=False))"
   ]
  },
  {
   "cell_type": "markdown",
   "metadata": {},
   "source": [
    "In the above examples, as the means of the two populations has become nearer, the test statistic has decreased and the p-value has increased."
   ]
  },
  {
   "cell_type": "markdown",
   "metadata": {},
   "source": [
    "Below, I've chosen to generate two Poisson distributed populations with varying means. The sample means will somewhat reflect the population means, but the accuracy will increase as the sample size increases. "
   ]
  },
  {
   "cell_type": "code",
   "execution_count": 40,
   "metadata": {
    "collapsed": false
   },
   "outputs": [
    {
     "name": "stdout",
     "output_type": "stream",
     "text": [
      "10.2173093927\n",
      "Ttest_indResult(statistic=10.166094486741775, pvalue=8.9260103161029479e-20)\n"
     ]
    }
   ],
   "source": [
    "pop1 = np.random.poisson(10, 10000)\n",
    "pop2 = np.random.poisson(15, 10000)\n",
    "\n",
    "sample1 = np.random.choice(pop1, 100, replace=True)\n",
    "sample2 = np.random.choice(pop2, 100, replace=True)\n",
    "\n",
    "size = np.array([len(sample1), len(sample2)])\n",
    "sd = np.array([sample1.std(), sample2.std()])\n",
    "\n",
    "\n",
    "diff=sample2.mean( ) -sample1.mean()\n",
    "\n",
    "# The squared standard deviations are divided by the sample size and summed, then we take\n",
    "# the square root of the sum. \n",
    "diff_se = sum(sd ** 2 / size) ** 0.5  \n",
    "\n",
    "#The difference between the means divided by the standard error: T-value.  \n",
    "print(diff/diff_se)\n",
    "\n",
    "from scipy.stats import ttest_ind\n",
    "print(ttest_ind(sample2, sample1, equal_var=False))"
   ]
  },
  {
   "cell_type": "code",
   "execution_count": 42,
   "metadata": {
    "collapsed": false,
    "scrolled": true
   },
   "outputs": [
    {
     "name": "stdout",
     "output_type": "stream",
     "text": [
      "Pop1: The mean is 10.15 and the standard deviation is 3.1886517527005043 \n",
      "Pop2: The mean is 14.98 and the standard deviation is 3.489928366027016\n"
     ]
    },
    {
     "data": {
      "image/png": "[encoded data removed]",
      "text/plain": [
       "<matplotlib.figure.Figure at 0x10b0ba9b0>"
      ]
     },
     "metadata": {},
     "output_type": "display_data"
    }
   ],
   "source": [
    "\n",
    "mean1 = np.mean(sample1)\n",
    "mean2 = np.mean(sample2)\n",
    "\n",
    "std1 = np.std(sample1)\n",
    "std2 = np.std(sample2)\n",
    "\n",
    "print(\"Pop1: The mean is {} and the standard deviation is {} \\nPop2: The mean is {} and the standard deviation is {}\".format(mean1, std1, mean2, std2))\n",
    "\n",
    "\n",
    "plt.hist(sample1, alpha=0.5, label='pop1') \n",
    "plt.hist(sample2, alpha=0.5, label='pop2') \n",
    "plt.legend(loc='upper right') \n",
    "\n",
    "\n",
    "\n",
    "plt.title(\"Sample size: 100\")\n",
    "# Show the means\n",
    "plt.axvline(mean1, color='g', linestyle='solid', linewidth=4)\n",
    "plt.axvline(mean2, color='b', linestyle='solid', linewidth=4)\n",
    "\n",
    "\n",
    "# Show one standard deviation from the mean\n",
    "plt.axvline(mean1 + std1, color='g', linestyle='dashed', linewidth=2)\n",
    "plt.axvline(mean1 - std1, color='g', linestyle='dashed', linewidth=2)\n",
    "\n",
    "# Show one standard deviation from the mean\n",
    "plt.axvline(mean2 + std2, color='b', linestyle='dashed', linewidth=2)\n",
    "plt.axvline(mean2 - std2, color='b', linestyle='dashed', linewidth=2)\n",
    "\n",
    "\n",
    "plt.show()"
   ]
  },
  {
   "cell_type": "markdown",
   "metadata": {},
   "source": [
    "Above, we see two populations with Poisson distributions. As the sample size increases, the p-value decreases."
   ]
  },
  {
   "cell_type": "code",
   "execution_count": null,
   "metadata": {
    "collapsed": true
   },
   "outputs": [],
   "source": []
  }
 ],
 "metadata": {
  "kernelspec": {
   "display_name": "Python 3",
   "language": "python",
   "name": "python3"
  },
  "language_info": {
   "codemirror_mode": {
    "name": "ipython",
    "version": 3
   },
   "file_extension": ".py",
   "mimetype": "text/x-python",
   "name": "python",
   "nbconvert_exporter": "python",
   "pygments_lexer": "ipython3",
   "version": "3.5.2"
  }
 },
 "nbformat": 4,
 "nbformat_minor": 2
}
