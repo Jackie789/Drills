{
 "cells": [
  {
   "cell_type": "markdown",
   "metadata": {
    "deletable": true,
    "editable": true
   },
   "source": [
    "# Challenge - Beware of Monty Hall\n",
    "\n",
    "You are on a game show and given the choice of whatever is behind three doors. Behind one door is a fantastic prize (some examples use a car, others use cash) while behind the other two doors is a dud (some examples say a goat, others say it's just empty). You pick a door. Then the host opens one of the other two doors to reveal a dud. But here's the wrinkle: the host now gives you the opportunity to switch your door. What should you do?\n",
    "\n",
    "\n",
    "In the contestant's initial guess, they have a 1/3 chance of choosing the prize door and a 2/3 chance of choosing a dud. \n",
    "\n",
    "If the prize door was originally chosen(P=0.333), the host will open a dud, and only a dud will remain. Switching means a 0% chance of winning in this case. \n",
    "\n",
    "If a dud was originally chosen(P=0.667), the host will open the other dud, and switching means a 100% chance of winning. \n",
    "\n",
    "Thus, the contestant should always switch if given a chance. If they never switch they will have a 33% chance of winning. If they always switch, they'll have a 67% chance of winning. \n",
    "\n",
    "\n",
    "The way that Bayes' rule is applied is that one must consider that the odds of one having chosen the correct door does not change as a result of the conditionality of game show host opening a different unchosen door. However, the odds of the third (unchosen and unopened) door being the correct door has doubled in probability of being the correct door. This is because the currently chosen door could be correct or incorrect, the action of the game show host cannot affect this chance. However, by eliminating one incorrect door from the two remaining doors, the odds of the other remaining door being the correct one has been increased by the action of the game show host. \n",
    "\n"
   ]
  },
  {
   "cell_type": "code",
   "execution_count": null,
   "metadata": {
    "collapsed": true
   },
   "outputs": [],
   "source": []
  }
 ],
 "metadata": {
  "kernelspec": {
   "display_name": "Python 3",
   "language": "python",
   "name": "python3"
  },
  "language_info": {
   "codemirror_mode": {
    "name": "ipython",
    "version": 3
   },
   "file_extension": ".py",
   "mimetype": "text/x-python",
   "name": "python",
   "nbconvert_exporter": "python",
   "pygments_lexer": "ipython3",
   "version": "3.5.2"
  }
 },
 "nbformat": 4,
 "nbformat_minor": 2
}
